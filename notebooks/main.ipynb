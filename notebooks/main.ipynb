{
 "cells": [
  {
   "cell_type": "code",
   "execution_count": null,
   "id": "779efdd4",
   "metadata": {},
   "outputs": [],
   "source": [
    "print('r�pertoire contenant tous les notebooks r�dig�s.')"
   ]
  }
 ],
 "metadata": {},
 "nbformat": 4,
 "nbformat_minor": 5
}
